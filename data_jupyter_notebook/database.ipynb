{
 "cells": [
  {
   "cell_type": "code",
   "execution_count": 49,
   "metadata": {},
   "outputs": [],
   "source": [
    "import time\n",
    "import mysql.connector"
   ]
  },
  {
   "cell_type": "code",
   "execution_count": 50,
   "metadata": {},
   "outputs": [],
   "source": [
    "def DB_createDB(nameDB):\n",
    "    mydb = mysql.connector.connect(\n",
    "        host = 'localhost',\n",
    "        user = 'root',\n",
    "        password = ''\n",
    "    )\n",
    "    curr = mydb.cursor()\n",
    "    curr.execute(\"CREATE DATABASE \"+nameDB)\n",
    "    return print('Membuat '+nameDB+' Database : Sukses !!')"
   ]
  },
  {
   "cell_type": "code",
   "execution_count": 51,
   "metadata": {},
   "outputs": [],
   "source": [
    "def DB_testConn(nameDB):\n",
    "    mydb = mysql.connector.connect(\n",
    "        host = 'localhost',\n",
    "        user = 'root',\n",
    "        password = '',\n",
    "        database = nameDB\n",
    "        )\n",
    "    curr = mydb.cursor()\n",
    "    return print ('Tes Koneksi '+nameDB+ ' Database : Sukses !!')"
   ]
  },
  {
   "cell_type": "code",
   "execution_count": 59,
   "metadata": {},
   "outputs": [],
   "source": [
    "def DB_Insert(nameDB):\n",
    "    mydb = mysql.connector.connect(\n",
    "        host = 'localhost',\n",
    "        user = 'root',\n",
    "        password = '',\n",
    "        database = nameDB\n",
    "        )\n",
    "    curr = mydb.cursor()\n",
    "    return curr, mydb  "
   ]
  },
  {
   "cell_type": "code",
   "execution_count": 60,
   "metadata": {},
   "outputs": [],
   "source": [
    "def DB_createTable(nfield, nameDB) :\n",
    "    curr, mydb = DB_Insert(nameDB)\n",
    "    for field in range (nfield) :\n",
    "        if (field==0) :\n",
    "            sql = \"CREATE TABLE recordType_\"+str(field)+\" (dates INT NOT NULL, timee INT NOT NULL, sequence INT NOT NULL, record_type INT NOT NULL, status  INT NOT NULL, messag VARCHAR (100))\"\n",
    "        elif (field==1) :\n",
    "            sql = \"CREATE TABLE recordType_\"+str(field)+\" (dates INT NOT NULL, timee INT NOT NULL, sequence INT NOT NULL, record_type INT NOT NULL, ord_time INT NOT NULL, ord_comm INT NOT NULL, sec_code VARCHAR(100), board_code VARCHAR(100), broker_code VARCHAR(100), prices INT NOT NULL, volume INT NOT NULL, balance INT NOT NULL, SB VARCHAR(100), ord_num INT NOT NULL, best_bp INT NOT NULL, best_bv INT NOT NULL, best_op INT NOT NULL, best_ov INT NOT NULL, link_order INT NOT NULL)\"\n",
    "        elif (field==2) :\n",
    "            sql = \"CREATE TABLE recordType_\"+str(field)+\" (dates INT NOT NULL, timee INT NOT NULL, sequence INT NOT NULL, record_type INT NOT NULL, trade_time INT NOT NULL, trade_comm INT NOT NULL, sec_code VARCHAR(100), board_code VARCHAR(100), trade INT NOT NULL, prices INT NOT NULL, volume INT NOT NULL, buy_code VARCHAR(100), buy_type VARCHAR(100), sell_code VARCHAR(100), sell_type VARCHAR(100), BBP INT NOT NULL, BBV INT NOT NULL, BOP INT NOT NULL, BOV INT NOT NULL, buy_ord_no INT NOT NULL, sell_ord_no INT NOT NULL)\"\n",
    "        elif (field==3) :\n",
    "            sql = \"CREATE TABLE recordType_\"+str(field)+\" (dates INT NOT NULL, timee INT NOT NULL, sequence INT NOT NULL, record_type INT NOT NULL, sec_code VARCHAR(100), sec_name VARCHAR(100), sec_status INT NOT NULL, sec_type VARCHAR(100), sub_sector INT NOT NULL, ipo_prices INT NOT NULL, base_price INT NOT NULL, listed_shared INT NOT NULL, trade_list_shared INT NOT NULL, shared_lot INT NOT NULL, remarks VARCHAR(100), sec_remark VARCHAR(100), weight INT NOT NULL)\"\n",
    "        elif (field==4) :\n",
    "            sql = \"CREATE TABLE recordType_\"+str(field)+\" (dates INT NOT NULL, timee INT NOT NULL, sequence INT NOT NULL, record_type INT NOT NULL, broker_code VARCHAR(100), broker_name VARCHAR(100),broker_stat INT NOT NULL)\"\n",
    "        elif (field==5) :  \n",
    "            sql = \"CREATE TABLE recordType_\"+str(field)+\" (dates INT NOT NULL, timee INT NOT NULL, sequence INT NOT NULL, record_type INT NOT NULL, sec_code VARCHAR(100), board_code VARCHAR(100), prev_price INT NOT NULL, high_price INT NOT NULL, low_price INT NOT NULL, close_price INT NOT NULL, change_val INT NOT NULL, trade_vol INT NOT NULL, trade_val INT NOT NULL, trade_freq INT NOT NULL, indi_index INT NOT NULL, ofavail INT NOT NULL, opening_price INT NOT NULL, BBP INT NOT NULL, BBV INT NOT NULL, BOP INT NOT NULL, BV INT NOT NULL, average_pr INT NOT NULL, sec_board_st INT NOT NULL)\"\n",
    "        elif (field==6) :\n",
    "            sql = \"CREATE TABLE recordType_\"+str(field)+\" (dates INT NOT NULL, timee INT NOT NULL, sequence INT NOT NULL, record_type INT NOT NULL, index_code VARCHAR(100), ex_base_val INT NOT NULL, ex_mark_val INT NOT NULL, indexx INT NOT NULL, open INT NOT NULL, high INT NOT NULL, low INT NOT NULL, prev_index INT NOT NULL )\"\n",
    "        msg = 'Membuat tabel recordType_' + str(field) + ' : Sukses !!'\n",
    "        curr.execute(sql)\n",
    "        mydb.commit()\n",
    "        print(msg)"
   ]
  },
  {
   "cell_type": "code",
   "execution_count": null,
   "metadata": {},
   "outputs": [],
   "source": [
    "def DB_createTable(nfield, nameDB) :\n",
    "    curr, mydb = DB_Insert(nameDB)\n",
    "    for field in range (nfield) :\n",
    "        if (field==0) :\n",
    "            sql = \"CREATE TABLE recordType_\"+str(field)+\" (dates INT NOT NULL, timee INT NOT NULL, sequence INT NOT NULL, record_type INT NOT NULL, status  INT NOT NULL, messag VARCHAR (100))\"\n",
    "        elif (field==1) :\n",
    "            sql = \"CREATE TABLE recordType_\"+str(field)+\" (dates INT NOT NULL, timee INT NOT NULL, sequence INT NOT NULL, record_type INT NOT NULL, ord_time INT NOT NULL, ord_comm INT NOT NULL, sec_code VARCHAR(100), board_code VARCHAR(100), broker_code VARCHAR(100), prices INT NOT NULL, volume INT NOT NULL, balance INT NOT NULL, SB VARCHAR(100), ord_num INT NOT NULL, best_bp INT NOT NULL, best_bv INT NOT NULL, best_op INT NOT NULL, best_ov INT NOT NULL, link_order INT NOT NULL)\"\n",
    "        elif (field==2) :\n",
    "            sql = \"CREATE TABLE recordType_\"+str(field)+\" (dates INT NOT NULL, timee INT NOT NULL, sequence INT NOT NULL, record_type INT NOT NULL, trade_time INT NOT NULL, trade_comm INT NOT NULL, sec_code VARCHAR(100), board_code VARCHAR(100), trade INT NOT NULL, prices INT NOT NULL, volume INT NOT NULL, buy_code VARCHAR(100), buy_type VARCHAR(100), sell_code VARCHAR(100), sell_type VARCHAR(100), BBP INT NOT NULL, BBV INT NOT NULL, BOP INT NOT NULL, BOV INT NOT NULL, buy_ord_no INT NOT NULL, sell_ord_no INT NOT NULL)\"\n",
    "        elif (field==3) :\n",
    "            sql = \"CREATE TABLE recordType_\"+str(field)+\" (dates INT NOT NULL, timee INT NOT NULL, sequence INT NOT NULL, record_type INT NOT NULL, sec_code VARCHAR(100), sec_name VARCHAR(100), sec_status INT NOT NULL, sec_type VARCHAR(100), sub_sector INT NOT NULL, ipo_prices INT NOT NULL, base_price INT NOT NULL, listed_shared INT NOT NULL, trade_list_shared INT NOT NULL, shared_lot INT NOT NULL, remarks VARCHAR(100), sec_remark VARCHAR(100), weight INT NOT NULL)\"\n",
    "        elif (field==4) :\n",
    "            sql = \"CREATE TABLE recordType_\"+str(field)+\" (dates INT NOT NULL, timee INT NOT NULL, sequence INT NOT NULL, record_type INT NOT NULL, broker_code VARCHAR(100), broker_name VARCHAR(100),broker_stat INT NOT NULL)\"\n",
    "        elif (field==5) :  \n",
    "            sql = \"CREATE TABLE recordType_\"+str(field)+\" (dates INT NOT NULL, timee INT NOT NULL, sequence INT NOT NULL, record_type INT NOT NULL, sec_code VARCHAR(100), board_code VARCHAR(100), prev_price INT NOT NULL, high_price INT NOT NULL, low_price INT NOT NULL, close_price INT NOT NULL, change_val INT NOT NULL, trade_vol INT NOT NULL, trade_val INT NOT NULL, trade_freq INT NOT NULL, indi_index INT NOT NULL, ofavail INT NOT NULL, opening_price INT NOT NULL, BBP INT NOT NULL, BBV INT NOT NULL, BOP INT NOT NULL, BV INT NOT NULL, average_pr INT NOT NULL, sec_board_st INT NOT NULL)\"\n",
    "        elif (field==6) :\n",
    "            sql = \"CREATE TABLE recordType_\"+str(field)+\" (dates INT NOT NULL, timee INT NOT NULL, sequence INT NOT NULL, record_type INT NOT NULL, index_code VARCHAR(100), ex_base_val INT NOT NULL, ex_mark_val INT NOT NULL, indexx INT NOT NULL, open INT NOT NULL, high INT NOT NULL, low INT NOT NULL, prev_index INT NOT NULL )\"\n",
    "        msg = 'Membuat tabel recordType_' + str(field) + ' : Sukses !!'\n",
    "        curr.execute(sql)\n",
    "        mydb.commit()\n",
    "        print(msg)"
   ]
  },
  {
   "cell_type": "code",
   "execution_count": 61,
   "metadata": {},
   "outputs": [],
   "source": [
    "def main():\n",
    "    nameofDB = 'test_db'\n",
    "    DB_createDB(nameofDB)\n",
    "    DB_testConn(nameofDB)\n",
    "    DB_createTable(7, nameofDB)"
   ]
  },
  {
   "cell_type": "code",
   "execution_count": 62,
   "metadata": {},
   "outputs": [
    {
     "name": "stdout",
     "output_type": "stream",
     "text": [
      "Membuat test_db Database : Sukses !!\n",
      "Tes Koneksi test_db Database : Sukses !!\n",
      "Membuat tabel recordType_0 : Sukses !!\n"
     ]
    }
   ],
   "source": [
    "main()"
   ]
  },
  {
   "cell_type": "code",
   "execution_count": null,
   "metadata": {},
   "outputs": [],
   "source": [
    "import pdb\n",
    "\n",
    "ayu = input\n",
    "->pdb.set_trace())\n",
    "if (ayu=='ayu') :\n",
    "    print('oke')"
   ]
  },
  {
   "cell_type": "code",
   "execution_count": null,
   "metadata": {},
   "outputs": [],
   "source": []
  },
  {
   "cell_type": "code",
   "execution_count": null,
   "metadata": {},
   "outputs": [],
   "source": []
  }
 ],
 "metadata": {
  "kernelspec": {
   "display_name": "Python 3",
   "language": "python",
   "name": "python3"
  },
  "language_info": {
   "codemirror_mode": {
    "name": "ipython",
    "version": 3
   },
   "file_extension": ".py",
   "mimetype": "text/x-python",
   "name": "python",
   "nbconvert_exporter": "python",
   "pygments_lexer": "ipython3",
   "version": "3.6.9"
  }
 },
 "nbformat": 4,
 "nbformat_minor": 4
}
