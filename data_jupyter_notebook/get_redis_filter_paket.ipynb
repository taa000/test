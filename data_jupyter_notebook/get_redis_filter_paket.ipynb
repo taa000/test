{
 "cells": [
  {
   "cell_type": "code",
   "execution_count": 38,
   "metadata": {},
   "outputs": [],
   "source": [
    "import redis\n",
    "import re\n",
    "import mysql.connector"
   ]
  },
  {
   "cell_type": "code",
   "execution_count": 39,
   "metadata": {},
   "outputs": [],
   "source": [
    "def connection_db(nameDB):\n",
    "    mydb = mysql.connector.connect(\n",
    "        host = 'localhost',\n",
    "        user = 'root',\n",
    "        password = '',\n",
    "        database = nameDB\n",
    "        )\n",
    "    curr = mydb.cursor()\n",
    "    return curr, mydb"
   ]
  },
  {
   "cell_type": "code",
   "execution_count": 40,
   "metadata": {},
   "outputs": [],
   "source": [
    "def sorting_emiten(reType5, emit):\n",
    "    for emiten in range(len(reType5)):\n",
    "        symbol = re.split('\\,', str(reType5[emiten]))\n",
    "        symbol[4] = re.sub(\"\\'\",\"\", str(symbol[4]))\n",
    "        symbol[4] = re.sub(\"\\s\",\"\", str(symbol[4]))\n",
    "        emit.append(symbol[4])\n",
    "    emit.sort()\n",
    "    emit = daftar_emiten(emit)\n",
    "    return emit"
   ]
  },
  {
   "cell_type": "code",
   "execution_count": 41,
   "metadata": {},
   "outputs": [],
   "source": [
    "def daftar_emiten(emit):\n",
    "    data = []\n",
    "    get_list = ''\n",
    "    for em in (emit) :\n",
    "        if (em != get_list) :\n",
    "            get_list = em\n",
    "            data.append(em)\n",
    "    return data"
   ]
  },
  {
   "cell_type": "code",
   "execution_count": 42,
   "metadata": {},
   "outputs": [],
   "source": [
    "def append_list(a,b) :\n",
    "    for i in range(len(b)) :\n",
    "        a.append(b[i])\n",
    "    return a"
   ]
  },
  {
   "cell_type": "code",
   "execution_count": 43,
   "metadata": {},
   "outputs": [],
   "source": [
    "def reg(data) :\n",
    "    \n",
    "    data = re.sub('\\s','', str(data))\n",
    "    data = re.sub('\\\"','', str(data))\n",
    "    return data"
   ]
  },
  {
   "cell_type": "code",
   "execution_count": null,
   "metadata": {},
   "outputs": [],
   "source": []
  },
  {
   "cell_type": "code",
   "execution_count": 44,
   "metadata": {},
   "outputs": [],
   "source": [
    "def remove_list(a,b) :\n",
    "    for i in range(len(b)) :\n",
    "        a.remove(b[i])\n",
    "    return a"
   ]
  },
  {
   "cell_type": "code",
   "execution_count": 45,
   "metadata": {},
   "outputs": [],
   "source": [
    "def bagiData(data) :\n",
    "    La = []\n",
    "    Lb = []\n",
    "    for i in range (len(data)) :\n",
    "        a,b = data[i]\n",
    "        La.append(a)\n",
    "        Lb.append(b)\n",
    "    return La,Lb"
   ]
  },
  {
   "cell_type": "code",
   "execution_count": 46,
   "metadata": {},
   "outputs": [],
   "source": [
    "def insert_open(dataRT, a, b, listEM) :\n",
    "    n = len(dataRT)\n",
    "    emit = []\n",
    "    for em in listEM :\n",
    "        for i in range (n) :\n",
    "            a[i] = re.sub('\\'','', str(a[i]))\n",
    "            b[i] = re.sub('\\'','', str(b[i]))\n",
    "            if (em == a[i]) :\n",
    "                list = em,b[i]\n",
    "                emit.append(em)\n",
    "                dataRT.append(list)\n",
    "                break\n",
    "    \n",
    "    print(\"banyak emiten : \", (len(listEM)))\n",
    "    print(\"emiten terisi : \", (len(emit)))\n",
    "    print(\"\")\n",
    "\n",
    "    emit = remove_list(listEM, emit)\n",
    "    return dataRT, emit"
   ]
  },
  {
   "cell_type": "code",
   "execution_count": 47,
   "metadata": {},
   "outputs": [],
   "source": [
    "def daftar_open_price(reType1, reType2, nEmiten):\n",
    "    data, i_data1, i_data2 = kondisi_rt1(reType1,6,9)\n",
    "    i_listOP, i_listEm = insert_open(i_data, i_data1, i_data2, nEmiten)\n",
    "    \n",
    "#     data, i_data1, i_data2 = kondisi_rt2(reType2,6,9)\n",
    "#     j_listOP, j_listEm = insert_open(j_data, j_data1, j_data2, i_listEm)\n",
    "    \n",
    "#     data = append_list(i_listOP, j_listEm)\n",
    "#     return data, j_listOP"
   ]
  },
  {
   "cell_type": "code",
   "execution_count": 48,
   "metadata": {},
   "outputs": [],
   "source": [
    "def kondisi_rt1(result, data1, data2):\n",
    "    j_data = []\n",
    "    i_data1 = []\n",
    "    i_data2 = []\n",
    "    for j in result :\n",
    "        row = re.split('\\,',str(j))\n",
    "        if (int(row[1]) < 90000) : \n",
    "            row[data1] = reg(row[data1])\n",
    "            row[data2] = reg(row[data2])\n",
    "            data = (row[data1],row[data2])\n",
    "            i_data1.append(row[data1])\n",
    "            i_data2.append(row[data2])\n",
    "            j_data.append(data)\n",
    "    return j_data, i_data1, i_data2"
   ]
  },
  {
   "cell_type": "code",
   "execution_count": 49,
   "metadata": {},
   "outputs": [],
   "source": [
    "def kondisi_rt2(result, data1, data2):\n",
    "    j_data = []\n",
    "    i_data1 = []\n",
    "    i_data2 = []\n",
    "    for j in result :\n",
    "        row = re.split('\\,',str(j))\n",
    "        if (int(row[1]) > 85000) and (int(row[5]) ==0): \n",
    "            row[data1] = reg(row[data1])\n",
    "            row[data2] = reg(row[data2])\n",
    "            data = (row[data1],row[data2])\n",
    "            i_data1.append(row[data1])\n",
    "            i_data2.append(row[data2])\n",
    "            j_data.append(data)\n",
    "    return j_data, i_data1, i_data2"
   ]
  },
  {
   "cell_type": "code",
   "execution_count": 50,
   "metadata": {},
   "outputs": [],
   "source": [
    "def filter_redis_paket(r, reType1, reType2, reType5, nameDB):\n",
    "    reType=[]\n",
    "    for i in range (9999) :\n",
    "        go = r.get(i+2)\n",
    "        if (go == None):\n",
    "            break\n",
    "        elif (go !=b'\"') and (go != b\"'\") :\n",
    "            data=go.decode('utf-8','ignore')\n",
    "            data = re.sub('\\s','', str(data))\n",
    "            rowData = re.split('\\|',str(data))\n",
    "            if (rowData[4]=='1') :\n",
    "                reType1.append(rowData[1:20])\n",
    "            elif (rowData[4]=='2') :\n",
    "                reType2.append(rowData[1:22])\n",
    "            elif (rowData[4]=='5') :\n",
    "                reType5.append(rowData[1:24])\n",
    "    return  reType1, reType2, reType5"
   ]
  },
  {
   "cell_type": "code",
   "execution_count": 51,
   "metadata": {},
   "outputs": [],
   "source": [
    "def main() :\n",
    "    reType1=[]\n",
    "    reType2=[]\n",
    "    reType5=[]\n",
    "    emiten=[]\n",
    "    \n",
    "    r = redis.Redis()\n",
    "    nameDB='PaketData'\n",
    "    reType1, reType2, reType5 = filter_redis_paket(r, reType1, reType2, reType5, nameDB)\n",
    "    \n",
    "    list_emiten = sorting_emiten(reType5,emiten) #594\n",
    "#     print(len(list_emiten))\n",
    "    \n",
    "    list_open, list_emit = daftar_open_price(reType1, reType2, list_emiten)\n",
    "    \n",
    "    print('Data sisa = ',len(list_emit))\n"
   ]
  },
  {
   "cell_type": "code",
   "execution_count": 52,
   "metadata": {},
   "outputs": [
    {
     "ename": "ValueError",
     "evalue": "invalid literal for int() with base 10: \" '120000'\"",
     "output_type": "error",
     "traceback": [
      "\u001b[0;31m---------------------------------------------------------------------------\u001b[0m",
      "\u001b[0;31mValueError\u001b[0m                                Traceback (most recent call last)",
      "\u001b[0;32m<ipython-input-52-263240bbee7e>\u001b[0m in \u001b[0;36m<module>\u001b[0;34m\u001b[0m\n\u001b[0;32m----> 1\u001b[0;31m \u001b[0mmain\u001b[0m\u001b[0;34m(\u001b[0m\u001b[0;34m)\u001b[0m\u001b[0;34m\u001b[0m\u001b[0;34m\u001b[0m\u001b[0m\n\u001b[0m",
      "\u001b[0;32m<ipython-input-51-3d071ebf6819>\u001b[0m in \u001b[0;36mmain\u001b[0;34m()\u001b[0m\n\u001b[1;32m     12\u001b[0m \u001b[0;31m#     print(len(list_emiten))\u001b[0m\u001b[0;34m\u001b[0m\u001b[0;34m\u001b[0m\u001b[0;34m\u001b[0m\u001b[0m\n\u001b[1;32m     13\u001b[0m \u001b[0;34m\u001b[0m\u001b[0m\n\u001b[0;32m---> 14\u001b[0;31m     \u001b[0mlist_open\u001b[0m\u001b[0;34m,\u001b[0m \u001b[0mlist_emit\u001b[0m \u001b[0;34m=\u001b[0m \u001b[0mdaftar_open_price\u001b[0m\u001b[0;34m(\u001b[0m\u001b[0mreType1\u001b[0m\u001b[0;34m,\u001b[0m \u001b[0mreType2\u001b[0m\u001b[0;34m,\u001b[0m \u001b[0mlist_emiten\u001b[0m\u001b[0;34m)\u001b[0m\u001b[0;34m\u001b[0m\u001b[0;34m\u001b[0m\u001b[0m\n\u001b[0m\u001b[1;32m     15\u001b[0m \u001b[0;34m\u001b[0m\u001b[0m\n\u001b[1;32m     16\u001b[0m     \u001b[0mprint\u001b[0m\u001b[0;34m(\u001b[0m\u001b[0;34m'Data sisa = '\u001b[0m\u001b[0;34m,\u001b[0m\u001b[0mlen\u001b[0m\u001b[0;34m(\u001b[0m\u001b[0mlist_emit\u001b[0m\u001b[0;34m)\u001b[0m\u001b[0;34m)\u001b[0m\u001b[0;34m\u001b[0m\u001b[0;34m\u001b[0m\u001b[0m\n",
      "\u001b[0;32m<ipython-input-47-82d894ed5317>\u001b[0m in \u001b[0;36mdaftar_open_price\u001b[0;34m(reType1, reType2, nEmiten)\u001b[0m\n\u001b[1;32m      1\u001b[0m \u001b[0;32mdef\u001b[0m \u001b[0mdaftar_open_price\u001b[0m\u001b[0;34m(\u001b[0m\u001b[0mreType1\u001b[0m\u001b[0;34m,\u001b[0m \u001b[0mreType2\u001b[0m\u001b[0;34m,\u001b[0m \u001b[0mnEmiten\u001b[0m\u001b[0;34m)\u001b[0m\u001b[0;34m:\u001b[0m\u001b[0;34m\u001b[0m\u001b[0;34m\u001b[0m\u001b[0m\n\u001b[0;32m----> 2\u001b[0;31m     \u001b[0mdata\u001b[0m\u001b[0;34m,\u001b[0m \u001b[0mi_data1\u001b[0m\u001b[0;34m,\u001b[0m \u001b[0mi_data2\u001b[0m \u001b[0;34m=\u001b[0m \u001b[0mkondisi_rt1\u001b[0m\u001b[0;34m(\u001b[0m\u001b[0mreType1\u001b[0m\u001b[0;34m,\u001b[0m\u001b[0;36m6\u001b[0m\u001b[0;34m,\u001b[0m\u001b[0;36m9\u001b[0m\u001b[0;34m)\u001b[0m\u001b[0;34m\u001b[0m\u001b[0;34m\u001b[0m\u001b[0m\n\u001b[0m\u001b[1;32m      3\u001b[0m     \u001b[0mi_listOP\u001b[0m\u001b[0;34m,\u001b[0m \u001b[0mi_listEm\u001b[0m \u001b[0;34m=\u001b[0m \u001b[0minsert_open\u001b[0m\u001b[0;34m(\u001b[0m\u001b[0mi_data\u001b[0m\u001b[0;34m,\u001b[0m \u001b[0mi_data1\u001b[0m\u001b[0;34m,\u001b[0m \u001b[0mi_data2\u001b[0m\u001b[0;34m,\u001b[0m \u001b[0mnEmiten\u001b[0m\u001b[0;34m)\u001b[0m\u001b[0;34m\u001b[0m\u001b[0;34m\u001b[0m\u001b[0m\n\u001b[1;32m      4\u001b[0m \u001b[0;34m\u001b[0m\u001b[0m\n\u001b[1;32m      5\u001b[0m \u001b[0;31m#     data, i_data1, i_data2 = kondisi_rt2(reType2,6,9)\u001b[0m\u001b[0;34m\u001b[0m\u001b[0;34m\u001b[0m\u001b[0;34m\u001b[0m\u001b[0m\n",
      "\u001b[0;32m<ipython-input-48-07477718ee08>\u001b[0m in \u001b[0;36mkondisi_rt1\u001b[0;34m(result, data1, data2)\u001b[0m\n\u001b[1;32m      5\u001b[0m     \u001b[0;32mfor\u001b[0m \u001b[0mj\u001b[0m \u001b[0;32min\u001b[0m \u001b[0mresult\u001b[0m \u001b[0;34m:\u001b[0m\u001b[0;34m\u001b[0m\u001b[0;34m\u001b[0m\u001b[0m\n\u001b[1;32m      6\u001b[0m         \u001b[0mrow\u001b[0m \u001b[0;34m=\u001b[0m \u001b[0mre\u001b[0m\u001b[0;34m.\u001b[0m\u001b[0msplit\u001b[0m\u001b[0;34m(\u001b[0m\u001b[0;34m'\\,'\u001b[0m\u001b[0;34m,\u001b[0m\u001b[0mstr\u001b[0m\u001b[0;34m(\u001b[0m\u001b[0mj\u001b[0m\u001b[0;34m)\u001b[0m\u001b[0;34m)\u001b[0m\u001b[0;34m\u001b[0m\u001b[0;34m\u001b[0m\u001b[0m\n\u001b[0;32m----> 7\u001b[0;31m         \u001b[0;32mif\u001b[0m \u001b[0;34m(\u001b[0m\u001b[0mint\u001b[0m\u001b[0;34m(\u001b[0m\u001b[0mrow\u001b[0m\u001b[0;34m[\u001b[0m\u001b[0;36m1\u001b[0m\u001b[0;34m]\u001b[0m\u001b[0;34m)\u001b[0m \u001b[0;34m<\u001b[0m \u001b[0;36m90000\u001b[0m\u001b[0;34m)\u001b[0m \u001b[0;34m:\u001b[0m\u001b[0;34m\u001b[0m\u001b[0;34m\u001b[0m\u001b[0m\n\u001b[0m\u001b[1;32m      8\u001b[0m             \u001b[0mrow\u001b[0m\u001b[0;34m[\u001b[0m\u001b[0mdata1\u001b[0m\u001b[0;34m]\u001b[0m \u001b[0;34m=\u001b[0m \u001b[0mreg\u001b[0m\u001b[0;34m(\u001b[0m\u001b[0mrow\u001b[0m\u001b[0;34m[\u001b[0m\u001b[0mdata1\u001b[0m\u001b[0;34m]\u001b[0m\u001b[0;34m)\u001b[0m\u001b[0;34m\u001b[0m\u001b[0;34m\u001b[0m\u001b[0m\n\u001b[1;32m      9\u001b[0m             \u001b[0mrow\u001b[0m\u001b[0;34m[\u001b[0m\u001b[0mdata2\u001b[0m\u001b[0;34m]\u001b[0m \u001b[0;34m=\u001b[0m \u001b[0mreg\u001b[0m\u001b[0;34m(\u001b[0m\u001b[0mrow\u001b[0m\u001b[0;34m[\u001b[0m\u001b[0mdata2\u001b[0m\u001b[0;34m]\u001b[0m\u001b[0;34m)\u001b[0m\u001b[0;34m\u001b[0m\u001b[0;34m\u001b[0m\u001b[0m\n",
      "\u001b[0;31mValueError\u001b[0m: invalid literal for int() with base 10: \" '120000'\""
     ]
    }
   ],
   "source": [
    "main()"
   ]
  },
  {
   "cell_type": "code",
   "execution_count": null,
   "metadata": {},
   "outputs": [],
   "source": []
  },
  {
   "cell_type": "code",
   "execution_count": null,
   "metadata": {},
   "outputs": [],
   "source": []
  }
 ],
 "metadata": {
  "kernelspec": {
   "display_name": "Python 3",
   "language": "python",
   "name": "python3"
  },
  "language_info": {
   "codemirror_mode": {
    "name": "ipython",
    "version": 3
   },
   "file_extension": ".py",
   "mimetype": "text/x-python",
   "name": "python",
   "nbconvert_exporter": "python",
   "pygments_lexer": "ipython3",
   "version": "3.6.9"
  }
 },
 "nbformat": 4,
 "nbformat_minor": 4
}
