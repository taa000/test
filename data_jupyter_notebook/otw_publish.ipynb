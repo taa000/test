{
 "cells": [
  {
   "cell_type": "code",
   "execution_count": null,
   "metadata": {},
   "outputs": [
    {
     "output_type": "error",
     "ename": "Error",
     "evalue": "Jupyter cannot be started. Error attempting to locate jupyter: ",
     "traceback": [
      "Error: Jupyter cannot be started. Error attempting to locate jupyter:",
      "at A.startServer (c:\\Users\\akmalsqual\\.vscode\\extensions\\ms-python.python-2020.2.64397\\out\\client\\extension.js:1:786120)",
      "at async A.ensureServerAndNotebookImpl (c:\\Users\\akmalsqual\\.vscode\\extensions\\ms-python.python-2020.2.64397\\out\\client\\extension.js:1:785575)",
      "at async A.ensureServerAndNotebook (c:\\Users\\akmalsqual\\.vscode\\extensions\\ms-python.python-2020.2.64397\\out\\client\\extension.js:1:785376)",
      "at async A.submitCode (c:\\Users\\akmalsqual\\.vscode\\extensions\\ms-python.python-2020.2.64397\\out\\client\\extension.js:1:782328)",
      "at async A.reexecuteCell (c:\\Users\\akmalsqual\\.vscode\\extensions\\ms-python.python-2020.2.64397\\out\\client\\extension.js:75:879318)"
     ]
    }
   ],
   "source": [
    "import redis\nimport time\nr = redis.Redis()\n\nfor i in range (99999999) :\n    name_key = 'Data'+str(i)\n    paket_satu = r.get(name_key)\n    paket_satu = paket_satu.decode('utf-8','ignore')\n    time.sleep(0.01)\n    r.publish('Paket_1', str(paket_satu))"
   ]
  },
  {
   "cell_type": "code",
   "execution_count": null,
   "metadata": {},
   "outputs": [],
   "source": []
  }
 ],
 "metadata": {
  "kernelspec": {
   "display_name": "Python 3",
   "language": "python",
   "name": "python3"
  },
  "language_info": {
   "codemirror_mode": {
    "name": "ipython",
    "version": 3
   },
   "file_extension": ".py",
   "mimetype": "text/x-python",
   "name": "python",
   "nbconvert_exporter": "python",
   "pygments_lexer": "ipython3",
   "version": "3.6.9"
  }
 },
 "nbformat": 4,
 "nbformat_minor": 4
}