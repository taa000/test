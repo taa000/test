{
 "cells": [
  {
   "cell_type": "code",
   "execution_count": 396,
   "metadata": {},
   "outputs": [],
   "source": [
    "import redis\n",
    "import mysql.connector\n",
    "import array\n",
    "import re\n",
    "import time"
   ]
  },
  {
   "cell_type": "code",
   "execution_count": 397,
   "metadata": {},
   "outputs": [],
   "source": [
    "def connection_db(nameDB):\n",
    "    mydb = mysql.connector.connect(\n",
    "        host = 'localhost',\n",
    "        user = 'root',\n",
    "        password = '',\n",
    "        database = nameDB\n",
    "        )\n",
    "    curr = mydb.cursor()\n",
    "    return curr, mydb"
   ]
  },
  {
   "cell_type": "code",
   "execution_count": 398,
   "metadata": {},
   "outputs": [],
   "source": [
    "def filter_rt0(data, nameDB):\n",
    "    curr, mydb = connection_db(nameDB)\n",
    "    sql = \"\"\"INSERT INTO recordtype_0 VALUES (%s,%s,%s,%s,%s,%s)\"\"\" #OK\n",
    "    curr.execute(sql,data)\n",
    "    mydb.commit() "
   ]
  },
  {
   "cell_type": "code",
   "execution_count": 399,
   "metadata": {},
   "outputs": [],
   "source": [
    "def filter_rt1(data, nameDB):\n",
    "    curr, mydb = connection_db(nameDB) \n",
    "    sql = \"\"\"INSERT INTO recordtype_1 VALUES (%s,%s,%s,%s,%s,%s,%s,%s,%s,%s,%s,%s,%s,%s,%s,%s,%s,%s,%s)\"\"\" #OK\n",
    "    curr.execute(sql,data)\n",
    "    mydb.commit() "
   ]
  },
  {
   "cell_type": "code",
   "execution_count": 400,
   "metadata": {},
   "outputs": [],
   "source": [
    "def filter_rt2(data, nameDB):\n",
    "    curr, mydb = connection_db(nameDB) \n",
    "    sql = \"\"\"INSERT INTO recordtype_2 VALUES (%s,%s,%s,%s,%s,%s,%s,%s,%s,%s,%s,%s,%s,%s,%s,%s,%s,%s,%s,%s,%s)\"\"\" #OK\n",
    "    curr.execute(sql,data)\n",
    "    mydb.commit() "
   ]
  },
  {
   "cell_type": "code",
   "execution_count": 401,
   "metadata": {},
   "outputs": [],
   "source": [
    "def filter_rt3(data, nameDB):\n",
    "    curr, mydb = connection_db(nameDB)\n",
    "    sql = \"\"\"INSERT INTO recordtype_3 VALUES (%s,%s,%s,%s,%s,%s,%s,%s,%s,%s,%s,%s,%s,%s,%s,%s,%s)\"\"\" #OK\n",
    "    curr.execute(sql,data)\n",
    "    mydb.commit() "
   ]
  },
  {
   "cell_type": "code",
   "execution_count": 402,
   "metadata": {},
   "outputs": [],
   "source": [
    "def filter_rt4(data, nameDB):\n",
    "    curr, mydb = connection_db(nameDB)\n",
    "    sql = \"\"\"INSERT INTO recordtype_4 VALUES (%s,%s,%s,%s,%s,%s,%s)\"\"\"\n",
    "    curr.execute(sql,data)\n",
    "    mydb.commit() "
   ]
  },
  {
   "cell_type": "code",
   "execution_count": 403,
   "metadata": {},
   "outputs": [],
   "source": [
    "def filter_rt5(data, nameDB):\n",
    "    curr, mydb = connection_db(nameDB)\n",
    "    sql = \"\"\"INSERT INTO recordtype_5 VALUES (%s,%s,%s,%s,%s,%s,%s,%s,%s,%s,%s,%s,%s,%s,%s,%s,%s,%s,%s,%s,%s,%s,%s)\"\"\"\n",
    "    curr.execute(sql,data)\n",
    "    mydb.commit() "
   ]
  },
  {
   "cell_type": "code",
   "execution_count": 404,
   "metadata": {},
   "outputs": [],
   "source": [
    "def filter_rt6(data, nameDB):\n",
    "    curr, mydb = connection_db(nameDB)\n",
    "    sql = \"\"\"INSERT INTO recordtype_6 VALUES (%s,%s,%s,%s,%s,%s,%s,%s,%s,%s,%s,%s)\"\"\"\n",
    "    curr.execute(sql,data)\n",
    "    mydb.commit() "
   ]
  },
  {
   "cell_type": "code",
   "execution_count": 405,
   "metadata": {},
   "outputs": [],
   "source": [
    "def filter_redis_rt(r, reType0, reType1, reType2, reType3, reType4, reType5, reType6, nameDB):\n",
    "    reType=[]\n",
    "    for i in range (9999) :\n",
    "        go = r.get(i+2)\n",
    "        if (go == None):\n",
    "            break\n",
    "        elif (go !=b'\"') and (go != b\"'\") :\n",
    "            data=go.decode('utf-8','ignore')\n",
    "            data = re.sub('\\s','', str(data))\n",
    "            rowData = re.split('\\|',str(data))\n",
    "            if (rowData[4]=='0') :\n",
    "                filter_rt0(rowData[1:7], nameDB)\n",
    "                reType0.append(rowData[0:7])\n",
    "            elif (rowData[4]=='1') :\n",
    "                filter_rt1(rowData[1:20], nameDB)\n",
    "                reType1.append(rowData[0:20])\n",
    "            elif (rowData[4]=='2') :\n",
    "                filter_rt2(rowData[1:22], nameDB)\n",
    "                reType2.append(rowData[0:22])\n",
    "            elif (rowData[4]=='3') :\n",
    "                filter_rt3(rowData[1:18], nameDB)\n",
    "                reType3.append(rowData[0:18])\n",
    "            elif (rowData[4]=='4') :\n",
    "                filter_rt4(rowData[1:8], nameDB)\n",
    "                reType4.append(rowData[0:8])\n",
    "            elif (rowData[4]=='5') :\n",
    "                filter_rt5(rowData[1:24], nameDB)\n",
    "                reType5.append(rowData[0:24])\n",
    "            elif (rowData[4]=='6') :\n",
    "                filter_rt6(rowData[1:13], nameDB)\n",
    "                reType6.append(rowData[0:13])\n",
    "    reType = reType0, reType1, reType2, reType3, reType4, reType5, reType6\n",
    "    return reType"
   ]
  },
  {
   "cell_type": "code",
   "execution_count": 406,
   "metadata": {},
   "outputs": [],
   "source": [
    "def main() :\n",
    "    reType0=[]\n",
    "    reType1=[]\n",
    "    reType2=[]\n",
    "    reType3=[]\n",
    "    reType4=[]\n",
    "    reType5=[]\n",
    "    reType6=[]\n",
    "    reType=[]\n",
    "\n",
    "    r = redis.Redis()\n",
    "    nameDB = \"21januari\"\n",
    "    #FILTER DATA RECORDTYPE TO DB\n",
    "    reType = filter_redis_rt(r, reType0, reType1, reType2, reType3, reType4, reType5, reType6, nameDB)\n",
    "    \n",
    "    #FILTER DATA PAKET 1\n",
    "    "
   ]
  },
  {
   "cell_type": "code",
   "execution_count": 407,
   "metadata": {},
   "outputs": [],
   "source": [
    "main()"
   ]
  }
 ],
 "metadata": {
  "kernelspec": {
   "display_name": "Python 3",
   "language": "python",
   "name": "python3"
  },
  "language_info": {
   "codemirror_mode": {
    "name": "ipython",
    "version": 3
   },
   "file_extension": ".py",
   "mimetype": "text/x-python",
   "name": "python",
   "nbconvert_exporter": "python",
   "pygments_lexer": "ipython3",
   "version": "3.6.9"
  }
 },
 "nbformat": 4,
 "nbformat_minor": 4
}
